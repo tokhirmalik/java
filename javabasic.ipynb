{
  "nbformat": 4,
  "nbformat_minor": 0,
  "metadata": {
    "colab": {
      "private_outputs": true,
      "provenance": []
    },
    "kernelspec": {
      "name": "python3",
      "display_name": "Python 3"
    },
    "language_info": {
      "name": "python"
    }
  },
  "cells": [
    {
      "cell_type": "code",
      "execution_count": null,
      "metadata": {
        "id": "MrnUw8tHCxCk"
      },
      "outputs": [],
      "source": [
        "!apt-get install openjdk-11-jdk-headless -qq > /dev/null\n",
        "!javac HelloWorld.java\n",
        "!java HelloWorld\n"
      ]
    },
    {
      "cell_type": "code",
      "source": [
        "a = int(input(\"Enter the first value: \"))\n",
        "b = int(input(\"Enter the second value: \"))\n",
        "sum_ = a + b\n",
        "print(\"Sum is:\", sum_)\n"
      ],
      "metadata": {
        "id": "9rpcjyUYDHJN"
      },
      "execution_count": null,
      "outputs": []
    },
    {
      "cell_type": "code",
      "source": [
        "import math\n",
        "\n",
        "r = float(input(\"Enter the value: \"))\n",
        "s = math.pi * r * r\n",
        "print(\"Aylananing yuzi:\", s)\n",
        "\n"
      ],
      "metadata": {
        "id": "3MchdBBiDHNb"
      },
      "execution_count": null,
      "outputs": []
    }
  ]
}