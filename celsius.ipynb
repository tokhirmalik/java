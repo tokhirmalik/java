{
  "nbformat": 4,
  "nbformat_minor": 0,
  "metadata": {
    "colab": {
      "private_outputs": true,
      "provenance": []
    },
    "kernelspec": {
      "name": "python3",
      "display_name": "Python 3"
    },
    "language_info": {
      "name": "python"
    }
  },
  "cells": [
    {
      "cell_type": "code",
      "execution_count": null,
      "metadata": {
        "id": "1RLMcTPOWc3R"
      },
      "outputs": [],
      "source": [
        "%%writefile convert.java\n",
        "import java.util.Scanner;\n",
        "public class convert {\n",
        "    public static void main (String[] args) {\n",
        "        float a, far;\n",
        "        System.out.println(\"Your value is Celsius\");\n",
        "        Scanner col = new Scanner(System.in);\n",
        "        a = col.nextInt();\n",
        "        far = (a * 9 / 5) + 32;\n",
        "        System.out.println(\"Your value in Fahrenheit is: \" + far);\n",
        "    }\n",
        "}\n",
        "\n"
      ]
    },
    {
      "cell_type": "code",
      "source": [
        "!javac convert.java\n",
        "!java convert\n",
        "\n",
        "\n"
      ],
      "metadata": {
        "id": "8jKDfs0PZ9O3"
      },
      "execution_count": null,
      "outputs": []
    },
    {
      "cell_type": "code",
      "source": [],
      "metadata": {
        "id": "umAuVH0waAzt"
      },
      "execution_count": null,
      "outputs": []
    }
  ]
}