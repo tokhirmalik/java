{
  "nbformat": 4,
  "nbformat_minor": 0,
  "metadata": {
    "colab": {
      "private_outputs": true,
      "provenance": []
    },
    "kernelspec": {
      "name": "python3",
      "display_name": "Python 3"
    },
    "language_info": {
      "name": "python"
    }
  },
  "cells": [
    {
      "cell_type": "code",
      "execution_count": null,
      "metadata": {
        "id": "7XcRcHzIG2rE"
      },
      "outputs": [],
      "source": [
        "!apt-get install openjdk-17-jdk-headless -qq > /dev/null"
      ]
    },
    {
      "cell_type": "code",
      "source": [
        "%%writefile Main.java\n",
        "import java.util.Scanner;\n",
        "import java.util.Random;\n",
        "\n",
        "class Main {\n",
        "    public static void main(String[] args) {\n",
        "        Scanner malik = new Scanner(System.in);\n",
        "        Random rand = new Random();\n",
        "\n",
        "        int r = rand.nextInt(100) + 1;\n",
        "        System.out.println(\"Enter your guess:\");\n",
        "\n",
        "        for (int i = 1; i <= 5; i++) {\n",
        "            System.out.print(\"Attempt \" + i + \": \");\n",
        "            int guess = malik.nextInt();\n",
        "\n",
        "            if (guess == r) {\n",
        "                System.out.println(\"Congrats!\");\n",
        "                break;\n",
        "            } else if (guess < r) {\n",
        "                System.out.println(\"Too low.\");\n",
        "            } else {\n",
        "                System.out.println(\"Too high.\");\n",
        "            }\n",
        "\n",
        "            if (i == 5) {\n",
        "                System.out.println(\"You exceeded the limit of attempts!\");\n",
        "                System.out.println(\"The correct number was: \" + r);\n",
        "            }\n",
        "        }\n",
        "    }\n",
        "}"
      ],
      "metadata": {
        "id": "mHwP6qgOHCCT"
      },
      "execution_count": null,
      "outputs": []
    },
    {
      "cell_type": "code",
      "source": [
        "!javac Main.java\n",
        "!java Main"
      ],
      "metadata": {
        "id": "X68EMqVbHCGC"
      },
      "execution_count": null,
      "outputs": []
    },
    {
      "cell_type": "code",
      "source": [],
      "metadata": {
        "id": "Q7GHCJh6HCI9"
      },
      "execution_count": null,
      "outputs": []
    }
  ]
}