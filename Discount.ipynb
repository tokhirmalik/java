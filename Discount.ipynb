{
  "nbformat": 4,
  "nbformat_minor": 0,
  "metadata": {
    "colab": {
      "private_outputs": true,
      "provenance": []
    },
    "kernelspec": {
      "name": "python3",
      "display_name": "Python 3"
    },
    "language_info": {
      "name": "python"
    }
  },
  "cells": [
    {
      "cell_type": "code",
      "execution_count": null,
      "metadata": {
        "id": "CJXImtaRiaYE"
      },
      "outputs": [],
      "source": [
        "!apt-get install openjdk-17 -y\n",
        "!java -version\n"
      ]
    },
    {
      "cell_type": "code",
      "source": [
        "%%writefile Discount.java\n",
        "import java.util.Scanner;\n",
        "\n",
        "public class Discount {\n",
        "    public static void main(String[] args) {\n",
        "        int LCM, Discount, Shipping;\n",
        "\n",
        "        Scanner malik = new Scanner(System.in);\n",
        "        System.out.println(\"Enter the cost of value:\");\n",
        "        LCM = malik.nextInt();\n",
        "\n",
        "        if (LCM > 500) {\n",
        "            Discount = 30;\n",
        "            Shipping = 0;\n",
        "        } else if (LCM > 300) {\n",
        "            Discount = 20;\n",
        "            Shipping = 10;\n",
        "        } else if (LCM > 200) {\n",
        "            Discount = 10;\n",
        "            Shipping = 20;\n",
        "        } else if (LCM > 100) {\n",
        "            Discount = 5;\n",
        "            Shipping = 25;\n",
        "        } else {\n",
        "            Discount = 0;\n",
        "            Shipping = 30;\n",
        "        }\n",
        "\n",
        "        double finalPrice = LCM - ((LCM * Discount) / 100.0) + Shipping;\n",
        "        System.out.println(\"Your final price is: \" + finalPrice);\n",
        "\n",
        "        malik.close();\n",
        "    }\n",
        "}\n"
      ],
      "metadata": {
        "id": "WCxG16Maibib"
      },
      "execution_count": null,
      "outputs": []
    },
    {
      "cell_type": "code",
      "source": [
        "!javac Discount.java\n"
      ],
      "metadata": {
        "id": "QoENBw9EiblL"
      },
      "execution_count": null,
      "outputs": []
    },
    {
      "cell_type": "code",
      "source": [
        "!java Discount\n"
      ],
      "metadata": {
        "id": "hHqkP_71iboA"
      },
      "execution_count": null,
      "outputs": []
    }
  ]
}