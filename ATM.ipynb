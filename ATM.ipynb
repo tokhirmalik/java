{
  "nbformat": 4,
  "nbformat_minor": 0,
  "metadata": {
    "colab": {
      "private_outputs": true,
      "provenance": []
    },
    "kernelspec": {
      "name": "python3",
      "display_name": "Python 3"
    },
    "language_info": {
      "name": "python"
    }
  },
  "cells": [
    {
      "cell_type": "code",
      "execution_count": null,
      "metadata": {
        "id": "d-PCa9tAhVQe"
      },
      "outputs": [],
      "source": [
        "!apt-get install openjdk-17 -y\n",
        "!java -version\n"
      ]
    },
    {
      "cell_type": "code",
      "source": [
        "%%writefile ATM.java\n",
        "import java.util.Scanner;\n",
        "\n",
        "public class ATM {\n",
        "    public static void main(String[] args) {\n",
        "        int AB = 31; // Account Balance\n",
        "        int WA;      // Withdraw Amount\n",
        "\n",
        "        Scanner malik = new Scanner(System.in);\n",
        "        System.out.println(\"Enter the amount to withdraw:\");\n",
        "        WA = malik.nextInt();\n",
        "\n",
        "        if (WA <= 0) {\n",
        "            System.out.println(\"Withdraw amount must be greater than zero.\");\n",
        "        } else if (WA > AB) {\n",
        "            System.out.println(\"Insufficient Balance.\");\n",
        "        } else {\n",
        "            int Balance = AB - WA;\n",
        "            System.out.println(\"Withdraw successful!\");\n",
        "            System.out.println(\"Available Balance is: \" + Balance);\n",
        "        }\n",
        "\n",
        "        malik.close();\n",
        "    }\n",
        "}\n"
      ],
      "metadata": {
        "id": "Y08T2zP6hZ_M"
      },
      "execution_count": null,
      "outputs": []
    },
    {
      "cell_type": "code",
      "source": [
        "!javac ATM.java\n"
      ],
      "metadata": {
        "id": "d-DMuMIVhfCB"
      },
      "execution_count": null,
      "outputs": []
    },
    {
      "cell_type": "code",
      "source": [
        "!java ATM\n"
      ],
      "metadata": {
        "id": "b0be2d2khfM9"
      },
      "execution_count": null,
      "outputs": []
    }
  ]
}