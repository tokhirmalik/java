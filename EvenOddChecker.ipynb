{
  "nbformat": 4,
  "nbformat_minor": 0,
  "metadata": {
    "colab": {
      "private_outputs": true,
      "provenance": []
    },
    "kernelspec": {
      "name": "python3",
      "display_name": "Python 3"
    },
    "language_info": {
      "name": "python"
    }
  },
  "cells": [
    {
      "cell_type": "code",
      "execution_count": null,
      "metadata": {
        "id": "ytBJK5DPcDDz"
      },
      "outputs": [],
      "source": [
        "%%writefile EvenOddChecker.java\n",
        "import java.util.Scanner;\n",
        "\n",
        "public class EvenOddChecker {\n",
        "    public static void main(String[] args) {\n",
        "        Scanner input = new Scanner(System.in);\n",
        "\n",
        "        while (true) {\n",
        "            System.out.print(\"Son kiriting (0 chiqish uchun): \");\n",
        "            int number = input.nextInt();\n",
        "\n",
        "            if (number == 0) {\n",
        "                System.out.println(\"Dastur to‘xtadi. Rahmat!\");\n",
        "                break;\n",
        "            }\n",
        "\n",
        "            if (number % 2 == 0) {\n",
        "                System.out.print(\"Bu son juft, \");\n",
        "            } else {\n",
        "                System.out.print(\"Bu son toq, \");\n",
        "            }\n",
        "\n",
        "            if (number > 0) {\n",
        "                System.out.println(\"va musbat son.\");\n",
        "            } else {\n",
        "                System.out.println(\"va manfiy son.\");\n",
        "            }\n",
        "\n",
        "            System.out.println(\"-----------------------------\");\n",
        "        }\n",
        "\n",
        "        input.close();\n",
        "    }\n",
        "}\n"
      ]
    },
    {
      "cell_type": "code",
      "source": [
        "!javac EvenOddChecker.java\n"
      ],
      "metadata": {
        "id": "rJPMScBecDmq"
      },
      "execution_count": null,
      "outputs": []
    },
    {
      "cell_type": "code",
      "source": [
        "!java EvenOddChecker\n"
      ],
      "metadata": {
        "id": "bVHGOqqJcMO4"
      },
      "execution_count": null,
      "outputs": []
    }
  ]
}