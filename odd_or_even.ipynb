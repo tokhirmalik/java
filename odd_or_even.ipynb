{
  "nbformat": 4,
  "nbformat_minor": 0,
  "metadata": {
    "colab": {
      "private_outputs": true,
      "provenance": []
    },
    "kernelspec": {
      "name": "python3",
      "display_name": "Python 3"
    },
    "language_info": {
      "name": "python"
    }
  },
  "cells": [
    {
      "cell_type": "code",
      "execution_count": null,
      "metadata": {
        "id": "u6mF773XIAQX"
      },
      "outputs": [],
      "source": [
        "!apt-get install openjdk-17-jdk-headless -qq > /dev/null"
      ]
    },
    {
      "cell_type": "code",
      "source": [
        "%%writefile Main.java\n",
        "import java.util.Scanner;\n",
        "class Main {\n",
        "    public static void main(String[]args) {\n",
        "        int i;\n",
        "        int sum = 0;\n",
        "        int sumeven = 0;\n",
        "        for(i=34;i<=52; i++)\n",
        "        {\n",
        "            if(i%2 ==0)\n",
        "            {\n",
        "                sum = sum + i;\n",
        "            }\n",
        "            else\n",
        "            {\n",
        "                sumeven = sumeven + i;\n",
        "            }\n",
        "        }\n",
        "        System.out.println(\"even=\"+sum);\n",
        "        System.out.println(\"odd=\"+sumeven);\n",
        "    }\n",
        "}\n"
      ],
      "metadata": {
        "id": "RSOlfrGdIsym"
      },
      "execution_count": null,
      "outputs": []
    },
    {
      "cell_type": "code",
      "source": [
        "!javac Main.java\n",
        "!java Main"
      ],
      "metadata": {
        "id": "iKG1Y3t2JBlG"
      },
      "execution_count": null,
      "outputs": []
    }
  ]
}