{
  "nbformat": 4,
  "nbformat_minor": 0,
  "metadata": {
    "colab": {
      "private_outputs": true,
      "provenance": []
    },
    "kernelspec": {
      "name": "python3",
      "display_name": "Python 3"
    },
    "language_info": {
      "name": "python"
    }
  },
  "cells": [
    {
      "cell_type": "code",
      "execution_count": null,
      "metadata": {
        "id": "BM73hEcFlWej"
      },
      "outputs": [],
      "source": [
        "!apt-get install -y openjdk-17-jdk-headless"
      ]
    },
    {
      "cell_type": "code",
      "source": [
        "%%writefile LoginSystem.java\n",
        "import java.util.Scanner;\n",
        "\n",
        "public class LoginSystem {\n",
        "    public static void main(String[] args) {\n",
        "        String username = \"rash\";\n",
        "        String password = \"3122\";\n",
        "\n",
        "        Scanner input = new Scanner(System.in);\n",
        "        int attempts = 3;\n",
        "\n",
        "        while (attempts > 0) {\n",
        "            System.out.print(\"Enter your username: \");\n",
        "            String un = input.next();\n",
        "\n",
        "            System.out.print(\"Enter your password: \");\n",
        "            String pwd = input.next();\n",
        "\n",
        "            if (username.equals(un) && password.equals(pwd)) {\n",
        "                System.out.println(\" Login successful! Welcome, \" + username + \"!\");\n",
        "                break;\n",
        "            } else {\n",
        "                attempts--;\n",
        "                System.out.println(\" Incorrect username or password. Attempts left: \" + attempts);\n",
        "\n",
        "                if (attempts == 0) {\n",
        "                    System.out.println(\" Too many failed attempts. Access denied.\");\n",
        "                }\n",
        "            }\n",
        "        }\n",
        "\n",
        "        input.close();\n",
        "    }\n",
        "}"
      ],
      "metadata": {
        "id": "aKr50CR7llPJ"
      },
      "execution_count": null,
      "outputs": []
    },
    {
      "cell_type": "code",
      "source": [
        "!javac LoginSystem.java\n",
        "!java LoginSystem.java"
      ],
      "metadata": {
        "id": "sQ3GQdlgllVo"
      },
      "execution_count": null,
      "outputs": []
    }
  ]
}